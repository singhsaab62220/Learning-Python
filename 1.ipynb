{
  "nbformat": 4,
  "nbformat_minor": 0,
  "metadata": {
    "colab": {
      "provenance": [],
      "name": "1.ipynb",
      "authorship_tag": "ABX9TyPmsYIbz4FbO6FgXkaW7zXx"
    },
    "kernelspec": {
      "name": "python3",
      "display_name": "Python 3"
    },
    "language_info": {
      "name": "python"
    }
  },
  "cells": [
    {
      "cell_type": "code",
      "execution_count": 2,
      "metadata": {
        "id": "_8S20nLzj7TD",
        "colab": {
          "base_uri": "https://localhost:8080/"
        },
        "outputId": "46f25eb5-d198-448e-8c9f-4dc54636e4c0"
      },
      "outputs": [
        {
          "output_type": "stream",
          "name": "stdout",
          "text": [
            "hello world\n"
          ]
        }
      ],
      "source": [
        "print (\"hello world\")\n"
      ]
    },
    {
      "cell_type": "code",
      "source": [
        "print(\"Mad\")"
      ],
      "metadata": {
        "colab": {
          "base_uri": "https://localhost:8080/"
        },
        "id": "O1jq6g6tknph",
        "outputId": "3ede15a9-f807-497c-86d9-702994b2c194"
      },
      "execution_count": 3,
      "outputs": [
        {
          "output_type": "stream",
          "name": "stdout",
          "text": [
            "Mad\n"
          ]
        }
      ]
    }
  ]
}